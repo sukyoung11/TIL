{
 "cells": [
  {
   "cell_type": "markdown",
   "id": "67d0220e",
   "metadata": {},
   "source": [
    "### 2차원 리스트"
   ]
  },
  {
   "cell_type": "code",
   "execution_count": null,
   "id": "59facc14",
   "metadata": {},
   "outputs": [],
   "source": [
    "# 2차원 배열 입력 받기\n",
    "N = int(input())\n",
    "arr = [list(map(int,input())) for _ in range(N)]\n",
    "print(arr)"
   ]
  },
  {
   "cell_type": "code",
   "execution_count": null,
   "id": "fe91247d",
   "metadata": {},
   "outputs": [],
   "source": [
    "# 배열 순회\n",
    "\n",
    "# 행 우선 순회 \n",
    "for i in range(n):\n",
    "    for j in range(m):\n",
    "        Array[i][j]\n",
    "        \n",
    "# 열 우선 순회\n",
    "for j in range(n):\n",
    "    for i in range(m):\n",
    "        Array[i][j]\n",
    "        \n",
    "# 지그재그 순회\n",
    "for i in range(n):\n",
    "    for j in range(m):\n",
    "        Array[i][j + (m-1-2*j) * (i%2)]  # i가 짝수(짝수행) 일 떄는 j\n",
    "                                         # i가 홀수 행일 때는 m-j-1\n",
    "        \n",
    "# 델타를 이용한 2차 배열 탐색\n",
    "x1 = [1,-1,0,0]\n",
    "y1 = [0,0,1,-1]\n",
    "for i in range(0,4):\n",
    "    new_x = x+[x1]\n",
    "    new_y = y+[y1]\n",
    "    \n",
    "    matrix[new_x][new_y]\n",
    "\n",
    "#전치 행렬\n",
    "for i in range(n):\n",
    "    for j in range(n):\n",
    "        if i > j: # 두번 바뀌면 결국 제자리라서 조건을 정해줌\n",
    "            arr[i][j], arr[j][i] = arr[j][i],arr[i][j]\n",
    "            \n",
    "            \n",
    "            \n",
    "            \n",
    "            "
   ]
  },
  {
   "cell_type": "code",
   "execution_count": 5,
   "id": "ffc8a03b",
   "metadata": {},
   "outputs": [
    {
     "name": "stdout",
     "output_type": "stream",
     "text": [
      "\n",
      "3, \n",
      "6, \n",
      "3, 6, \n",
      "7, \n",
      "3, 7, \n",
      "6, 7, \n",
      "3, 6, 7, \n",
      "1, \n",
      "3, 1, \n",
      "6, 1, \n",
      "3, 6, 1, \n",
      "7, 1, \n",
      "3, 7, 1, \n",
      "6, 7, 1, \n",
      "3, 6, 7, 1, \n",
      "5, \n",
      "3, 5, \n",
      "6, 5, \n",
      "3, 6, 5, \n",
      "7, 5, \n",
      "3, 7, 5, \n",
      "6, 7, 5, \n",
      "3, 6, 7, 5, \n",
      "1, 5, \n",
      "3, 1, 5, \n",
      "6, 1, 5, \n",
      "3, 6, 1, 5, \n",
      "7, 1, 5, \n",
      "3, 7, 1, 5, \n",
      "6, 7, 1, 5, \n",
      "3, 6, 7, 1, 5, \n",
      "4, \n",
      "3, 4, \n",
      "6, 4, \n",
      "3, 6, 4, \n",
      "7, 4, \n",
      "3, 7, 4, \n",
      "6, 7, 4, \n",
      "3, 6, 7, 4, \n",
      "1, 4, \n",
      "3, 1, 4, \n",
      "6, 1, 4, \n",
      "3, 6, 1, 4, \n",
      "7, 1, 4, \n",
      "3, 7, 1, 4, \n",
      "6, 7, 1, 4, \n",
      "3, 6, 7, 1, 4, \n",
      "5, 4, \n",
      "3, 5, 4, \n",
      "6, 5, 4, \n",
      "3, 6, 5, 4, \n",
      "7, 5, 4, \n",
      "3, 7, 5, 4, \n",
      "6, 7, 5, 4, \n",
      "3, 6, 7, 5, 4, \n",
      "1, 5, 4, \n",
      "3, 1, 5, 4, \n",
      "6, 1, 5, 4, \n",
      "3, 6, 1, 5, 4, \n",
      "7, 1, 5, 4, \n",
      "3, 7, 1, 5, 4, \n",
      "6, 7, 1, 5, 4, \n",
      "3, 6, 7, 1, 5, 4, \n"
     ]
    }
   ],
   "source": [
    "#부분집합 합 문제\n",
    "arr = [3,6,7,1,5,4]\n",
    "n = len(arr)\n",
    "\n",
    "for i in range(1<<n):  # 부분집합의 개수(2^n)\n",
    "    for j in range(n):  # 원소의 수만큼 비트 비교\n",
    "        if i & (1<<j):  # i의 j번 비트가 1인 경우\n",
    "            print(arr[j], end=\", \")  # j번 원소 출력\n",
    "    print('')\n",
    "    \n"
   ]
  },
  {
   "cell_type": "code",
   "execution_count": 16,
   "id": "bf9c7042",
   "metadata": {},
   "outputs": [
    {
     "name": "stdout",
     "output_type": "stream",
     "text": [
      "None\n",
      "2\n"
     ]
    }
   ],
   "source": [
    "# 검색\n",
    "\n",
    "# 1. 순차검색\n",
    "# 가장 직관적이고 간단, 구현이 쉽지만 검색 대상 수가 많아지면 비효율적\n",
    "\n",
    "# 정렬x 경우\n",
    "def search(a,n,key):\n",
    "    i = 0\n",
    "    while i <n and a[i]!=key:\n",
    "        i += 1\n",
    "    if i < n:\n",
    "        return i\n",
    "print(search([1,2,3,4],4,5))\n",
    "\n",
    "# 정렬O 경우\n",
    "def search2(a,n,key):\n",
    "    i = 0\n",
    "    while i < n and a[i]<key:\n",
    "        i += 1\n",
    "    if i < n and a[i] == key:\n",
    "        return i\n",
    "    else:\n",
    "        return -1\n",
    "print(search2([1,2,3,4],4,3))       "
   ]
  },
  {
   "cell_type": "code",
   "execution_count": 18,
   "id": "dd5e025b",
   "metadata": {},
   "outputs": [
    {
     "name": "stdout",
     "output_type": "stream",
     "text": [
      "2\n"
     ]
    }
   ],
   "source": [
    "# 2. 이진 검색 (가운데 위치와 비교해서 제끼기)\n",
    "# 정렬된 상태여야 함\n",
    "\n",
    "def binarySearch(a,n,key):\n",
    "    start = 0\n",
    "    end = n-1\n",
    "    while start <= end:\n",
    "        middle = (start + end)//2\n",
    "        if a[middle] == key:\n",
    "            return middle\n",
    "        elif a[middle] > key:\n",
    "            end = middle -1\n",
    "        else:\n",
    "            start = middle + 1\n",
    "    return False\n",
    "print(binarySearch([3,5,7,9,10,15],6,7))\n",
    "\n",
    "# 이진 검색 재귀함수로 구현하기"
   ]
  },
  {
   "cell_type": "code",
   "execution_count": null,
   "id": "89f7a5ce",
   "metadata": {},
   "outputs": [],
   "source": []
  }
 ],
 "metadata": {
  "kernelspec": {
   "display_name": "Python 3 (ipykernel)",
   "language": "python",
   "name": "python3"
  },
  "language_info": {
   "codemirror_mode": {
    "name": "ipython",
    "version": 3
   },
   "file_extension": ".py",
   "mimetype": "text/x-python",
   "name": "python",
   "nbconvert_exporter": "python",
   "pygments_lexer": "ipython3",
   "version": "3.9.9"
  }
 },
 "nbformat": 4,
 "nbformat_minor": 5
}
