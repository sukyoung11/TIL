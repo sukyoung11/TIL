{
 "cells": [
  {
   "cell_type": "code",
   "execution_count": null,
   "id": "4c872e89",
   "metadata": {},
   "outputs": [],
   "source": [
    "# dfs 부분집합 만들기 - 재귀함수\n",
    "\n",
    "def f(i, N):\n",
    "    if i == N:  # 한개의 부분집합 완성\n",
    "        s = 0\n",
    "        for j in range(N):\n",
    "            if bit[j]:\n",
    "                s+= a[j]\n",
    "                print(a[j], end = ' ')\n",
    "        return\n",
    "    else:\n",
    "        bit[i] = 1\n",
    "        f(i+1,N)\n",
    "        bit[i] = 0\n",
    "        f(i+1,N)\n",
    "    \n",
    "    return\n",
    "    \n",
    "\n",
    "    \n",
    "    \n",
    "    \n",
    "a = [1,2,3]\n",
    "bit = [0,0,0]\n",
    "f(0,3)"
   ]
  }
 ],
 "metadata": {
  "kernelspec": {
   "display_name": "Python 3 (ipykernel)",
   "language": "python",
   "name": "python3"
  },
  "language_info": {
   "codemirror_mode": {
    "name": "ipython",
    "version": 3
   },
   "file_extension": ".py",
   "mimetype": "text/x-python",
   "name": "python",
   "nbconvert_exporter": "python",
   "pygments_lexer": "ipython3",
   "version": "3.9.9"
  }
 },
 "nbformat": 4,
 "nbformat_minor": 5
}
